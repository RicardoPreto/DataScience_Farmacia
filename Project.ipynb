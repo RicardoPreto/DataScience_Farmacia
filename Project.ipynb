{
 "cells": [
  {
   "cell_type": "markdown",
   "metadata": {},
   "source": [
    "# Imersão Data Science - Alura"
   ]
  },
  {
   "cell_type": "code",
   "execution_count": 1,
   "metadata": {},
   "outputs": [],
   "source": [
    "# Importar as bibliotecas\n",
    "import pandas as pd"
   ]
  },
  {
   "cell_type": "code",
   "execution_count": 2,
   "metadata": {},
   "outputs": [],
   "source": [
    "# Importar os dados\n",
    "url = \"https://github.com/alura-cursos/imersaodados3/blob/main/dados/dados_experimentos.zip?raw=tru\"\n",
    "df = pd.read_csv(url, compression=\"zip\")\n"
   ]
  },
  {
   "cell_type": "markdown",
   "metadata": {},
   "source": [
    "## Aula 01"
   ]
  },
  {
   "cell_type": "markdown",
   "metadata": {},
   "source": [
    "### Visualizar os dados"
   ]
  },
  {
   "cell_type": "code",
   "execution_count": 3,
   "metadata": {},
   "outputs": [
    {
     "name": "stdout",
     "output_type": "stream",
     "text": [
      "             id tratamento  tempo dose      droga     g-0     g-1     g-2  \\\n",
      "0  id_000644bb2  com_droga     24   D1  b68db1d53  1.0620  0.5577 -0.2479   \n",
      "1  id_000779bfc  com_droga     72   D1  df89a8e5a  0.0743  0.4087  0.2991   \n",
      "2  id_000a6266a  com_droga     48   D1  18bb41b2c  0.6280  0.5817  1.5540   \n",
      "3  id_0015fd391  com_droga     48   D1  8c7f86626 -0.5138 -0.2491 -0.2656   \n",
      "4  id_001626bd3  com_droga     72   D2  7cbed3131 -0.3254 -0.4009  0.9700   \n",
      "\n",
      "      g-3     g-4  ...    c-90    c-91    c-92    c-93    c-94    c-95  \\\n",
      "0 -0.6208 -0.1944  ...  0.2862  0.2584  0.8076  0.5523 -0.1912  0.6584   \n",
      "1  0.0604  1.0190  ... -0.4265  0.7543  0.4708  0.0230  0.2957  0.4899   \n",
      "2 -0.0764 -0.0323  ... -0.7250 -0.6297  0.6103  0.0223 -1.3240 -0.3174   \n",
      "3  0.5288  4.0620  ... -2.0990 -0.6441 -5.6300 -1.3780 -0.8632 -1.2880   \n",
      "4  0.6919  1.4180  ...  0.0042  0.0048  0.6670  1.0690  0.5523 -0.3031   \n",
      "\n",
      "     c-96    c-97    c-98    c-99  \n",
      "0 -0.3981  0.2139  0.3801  0.4176  \n",
      "1  0.1522  0.1241  0.6077  0.7371  \n",
      "2 -0.6417 -0.2187 -1.4080  0.6931  \n",
      "3 -1.6210 -0.8784 -0.3876 -0.8154  \n",
      "4  0.1094  0.2885 -0.3786  0.7125  \n",
      "\n",
      "[5 rows x 877 columns]\n",
      "(23814, 877)\n",
      "Tratamento ->  ['com_droga' 'com_controle']\n",
      "Tempo ->  [24 72 48]\n",
      "Dose ->  ['D1' 'D2']\n",
      "Droga ->  ['b68db1d53' 'df89a8e5a' '18bb41b2c' ... '573c787a2' 'b2fe3eca7'\n",
      " 'dd4a96d16']\n"
     ]
    }
   ],
   "source": [
    "# Visualizar dados sobre o dataframe\n",
    "print(df.head())\n",
    "print(df.shape)\n",
    "\n",
    "# Visualizar dados específicos\n",
    "print(\"Tratamento -> \", df[\"tratamento\"].unique())\n",
    "print(\"Tempo -> \", df[\"tempo\"].unique())\n",
    "print(\"Dose -> \", df[\"dose\"].unique())\n",
    "print(\"Droga -> \", df[\"droga\"].unique())"
   ]
  },
  {
   "cell_type": "code",
   "execution_count": 4,
   "metadata": {},
   "outputs": [
    {
     "name": "stdout",
     "output_type": "stream",
     "text": [
      "com_droga       21948\n",
      "com_controle     1866\n",
      "Name: tratamento, dtype: int64\n",
      "D1    12147\n",
      "D2    11667\n",
      "Name: dose, dtype: int64\n"
     ]
    }
   ],
   "source": [
    "print(df[\"tratamento\"].value_counts())\n",
    "print(df[\"dose\"].value_counts())"
   ]
  },
  {
   "cell_type": "code",
   "execution_count": 5,
   "metadata": {},
   "outputs": [
    {
     "name": "stdout",
     "output_type": "stream",
     "text": [
      "Tratamento:\n",
      " com_droga       0.921643\n",
      "com_controle    0.078357\n",
      "Name: tratamento, dtype: float64\n",
      "Dose:\n",
      " D1    0.510078\n",
      "D2    0.489922\n",
      "Name: dose, dtype: float64\n"
     ]
    }
   ],
   "source": [
    "# Fazer comparativo entre tratamento e dose  -- equiparando por porcentagens\n",
    "print(\"Tratamento:\\n\", df[\"tratamento\"].value_counts(normalize=True))\n",
    "print(\"Dose:\\n\", df[\"dose\"].value_counts(normalize=True))"
   ]
  },
  {
   "cell_type": "code",
   "execution_count": 6,
   "metadata": {},
   "outputs": [
    {
     "name": "stdout",
     "output_type": "stream",
     "text": [
      "AxesSubplot(0.260833,0.125;0.503333x0.755)\n"
     ]
    },
    {
     "data": {
      "image/png": "[encoded data removed]",
      "text/plain": "<Figure size 432x288 with 1 Axes>"
     },
     "metadata": {},
     "output_type": "display_data"
    }
   ],
   "source": [
    "# Visualizar os dados em gráfico de pizza\n",
    "print(df[\"tratamento\"].value_counts(normalize=True).plot.pie())"
   ]
  },
  {
   "cell_type": "code",
   "execution_count": 7,
   "metadata": {},
   "outputs": [
    {
     "name": "stdout",
     "output_type": "stream",
     "text": [
      "AxesSubplot(0.260833,0.125;0.503333x0.755)\n"
     ]
    },
    {
     "data": {
      "image/png": "[encoded data removed]",
      "text/plain": "<Figure size 432x288 with 1 Axes>"
     },
     "metadata": {},
     "output_type": "display_data"
    }
   ],
   "source": [
    "print(df[\"dose\"].value_counts(normalize=True).plot.pie())"
   ]
  },
  {
   "cell_type": "code",
   "execution_count": 8,
   "metadata": {},
   "outputs": [
    {
     "name": "stdout",
     "output_type": "stream",
     "text": [
      "AxesSubplot(0.260833,0.125;0.503333x0.755)\n"
     ]
    },
    {
     "data": {
      "image/png": "[encoded data removed]",
      "text/plain": "<Figure size 432x288 with 1 Axes>"
     },
     "metadata": {},
     "output_type": "display_data"
    }
   ],
   "source": [
    "print(df[\"tempo\"].value_counts().plot.pie())"
   ]
  },
  {
   "cell_type": "code",
   "execution_count": 9,
   "metadata": {},
   "outputs": [
    {
     "name": "stdout",
     "output_type": "stream",
     "text": [
      "AxesSubplot(0.125,0.125;0.775x0.755)\n"
     ]
    },
    {
     "data": {
      "image/png": "[encoded data removed]",
      "text/plain": "<Figure size 432x288 with 1 Axes>"
     },
     "metadata": {
      "needs_background": "light"
     },
     "output_type": "display_data"
    }
   ],
   "source": [
    "# Como o gráfico de pizza ficou impossível de analisar, no caso do tempo, vamos utilizar outro gráfico\n",
    "print(df[\"tempo\"].value_counts().plot.bar())"
   ]
  },
  {
   "cell_type": "code",
   "execution_count": 10,
   "metadata": {},
   "outputs": [
    {
     "data": {
      "text/html": "<div>\n<style scoped>\n    .dataframe tbody tr th:only-of-type {\n        vertical-align: middle;\n    }\n\n    .dataframe tbody tr th {\n        vertical-align: top;\n    }\n\n    .dataframe thead th {\n        text-align: right;\n    }\n</style>\n<table border=\"1\" class=\"dataframe\">\n  <thead>\n    <tr style=\"text-align: right;\">\n      <th></th>\n      <th>id</th>\n      <th>tratamento</th>\n      <th>tempo</th>\n      <th>dose</th>\n      <th>droga</th>\n      <th>g-0</th>\n      <th>g-1</th>\n      <th>g-2</th>\n      <th>g-3</th>\n      <th>g-4</th>\n      <th>...</th>\n      <th>c-90</th>\n      <th>c-91</th>\n      <th>c-92</th>\n      <th>c-93</th>\n      <th>c-94</th>\n      <th>c-95</th>\n      <th>c-96</th>\n      <th>c-97</th>\n      <th>c-98</th>\n      <th>c-99</th>\n    </tr>\n  </thead>\n  <tbody>\n    <tr>\n      <th>0</th>\n      <td>id_000644bb2</td>\n      <td>com_droga</td>\n      <td>24</td>\n      <td>D1</td>\n      <td>b68db1d53</td>\n      <td>1.0620</td>\n      <td>0.5577</td>\n      <td>-0.2479</td>\n      <td>-0.6208</td>\n      <td>-0.1944</td>\n      <td>...</td>\n      <td>0.2862</td>\n      <td>0.2584</td>\n      <td>0.8076</td>\n      <td>0.5523</td>\n      <td>-0.1912</td>\n      <td>0.6584</td>\n      <td>-0.3981</td>\n      <td>0.2139</td>\n      <td>0.3801</td>\n      <td>0.4176</td>\n    </tr>\n    <tr>\n      <th>1</th>\n      <td>id_000779bfc</td>\n      <td>com_droga</td>\n      <td>72</td>\n      <td>D1</td>\n      <td>df89a8e5a</td>\n      <td>0.0743</td>\n      <td>0.4087</td>\n      <td>0.2991</td>\n      <td>0.0604</td>\n      <td>1.0190</td>\n      <td>...</td>\n      <td>-0.4265</td>\n      <td>0.7543</td>\n      <td>0.4708</td>\n      <td>0.0230</td>\n      <td>0.2957</td>\n      <td>0.4899</td>\n      <td>0.1522</td>\n      <td>0.1241</td>\n      <td>0.6077</td>\n      <td>0.7371</td>\n    </tr>\n    <tr>\n      <th>2</th>\n      <td>id_000a6266a</td>\n      <td>com_droga</td>\n      <td>48</td>\n      <td>D1</td>\n      <td>18bb41b2c</td>\n      <td>0.6280</td>\n      <td>0.5817</td>\n      <td>1.5540</td>\n      <td>-0.0764</td>\n      <td>-0.0323</td>\n      <td>...</td>\n      <td>-0.7250</td>\n      <td>-0.6297</td>\n      <td>0.6103</td>\n      <td>0.0223</td>\n      <td>-1.3240</td>\n      <td>-0.3174</td>\n      <td>-0.6417</td>\n      <td>-0.2187</td>\n      <td>-1.4080</td>\n      <td>0.6931</td>\n    </tr>\n    <tr>\n      <th>6</th>\n      <td>id_001bd861f</td>\n      <td>com_droga</td>\n      <td>24</td>\n      <td>D2</td>\n      <td>746ca1f5a</td>\n      <td>2.0440</td>\n      <td>1.7000</td>\n      <td>-1.5390</td>\n      <td>5.9440</td>\n      <td>-2.1670</td>\n      <td>...</td>\n      <td>0.1855</td>\n      <td>1.1720</td>\n      <td>0.8325</td>\n      <td>0.6486</td>\n      <td>0.8090</td>\n      <td>1.5880</td>\n      <td>2.4670</td>\n      <td>0.0357</td>\n      <td>0.1351</td>\n      <td>-0.3179</td>\n    </tr>\n    <tr>\n      <th>7</th>\n      <td>id_0020d0484</td>\n      <td>com_droga</td>\n      <td>48</td>\n      <td>D1</td>\n      <td>8b87a7a83</td>\n      <td>0.2711</td>\n      <td>0.5133</td>\n      <td>-0.1327</td>\n      <td>2.5950</td>\n      <td>0.6980</td>\n      <td>...</td>\n      <td>0.3230</td>\n      <td>-0.4140</td>\n      <td>0.2532</td>\n      <td>0.0513</td>\n      <td>0.8600</td>\n      <td>1.4250</td>\n      <td>0.6633</td>\n      <td>0.4562</td>\n      <td>-0.9622</td>\n      <td>0.0260</td>\n    </tr>\n  </tbody>\n</table>\n<p>5 rows × 877 columns</p>\n</div>",
      "text/plain": "             id tratamento  tempo dose      droga     g-0     g-1     g-2  \\\n0  id_000644bb2  com_droga     24   D1  b68db1d53  1.0620  0.5577 -0.2479   \n1  id_000779bfc  com_droga     72   D1  df89a8e5a  0.0743  0.4087  0.2991   \n2  id_000a6266a  com_droga     48   D1  18bb41b2c  0.6280  0.5817  1.5540   \n6  id_001bd861f  com_droga     24   D2  746ca1f5a  2.0440  1.7000 -1.5390   \n7  id_0020d0484  com_droga     48   D1  8b87a7a83  0.2711  0.5133 -0.1327   \n\n      g-3     g-4  ...    c-90    c-91    c-92    c-93    c-94    c-95  \\\n0 -0.6208 -0.1944  ...  0.2862  0.2584  0.8076  0.5523 -0.1912  0.6584   \n1  0.0604  1.0190  ... -0.4265  0.7543  0.4708  0.0230  0.2957  0.4899   \n2 -0.0764 -0.0323  ... -0.7250 -0.6297  0.6103  0.0223 -1.3240 -0.3174   \n6  5.9440 -2.1670  ...  0.1855  1.1720  0.8325  0.6486  0.8090  1.5880   \n7  2.5950  0.6980  ...  0.3230 -0.4140  0.2532  0.0513  0.8600  1.4250   \n\n     c-96    c-97    c-98    c-99  \n0 -0.3981  0.2139  0.3801  0.4176  \n1  0.1522  0.1241  0.6077  0.7371  \n2 -0.6417 -0.2187 -1.4080  0.6931  \n6  2.4670  0.0357  0.1351 -0.3179  \n7  0.6633  0.4562 -0.9622  0.0260  \n\n[5 rows x 877 columns]"
     },
     "execution_count": 10,
     "metadata": {},
     "output_type": "execute_result"
    }
   ],
   "source": [
    "# Visualizar dados específicos\n",
    "df2 = df[df[\"g-0\"] > 0]\n",
    "df2.head()"
   ]
  },
  {
   "cell_type": "markdown",
   "metadata": {},
   "source": [
    "#### DESAFIOS\n",
    "\n",
    "Desafio 01: Plotar as últimas 05 linhas da tabela <br>\n",
    "Desafio 02: Quantos tipos de drogas foram investigados?"
   ]
  },
  {
   "cell_type": "markdown",
   "metadata": {},
   "source": [
    "##### Desafio 01"
   ]
  },
  {
   "cell_type": "code",
   "execution_count": 11,
   "metadata": {},
   "outputs": [
    {
     "data": {
      "text/html": "<div>\n<style scoped>\n    .dataframe tbody tr th:only-of-type {\n        vertical-align: middle;\n    }\n\n    .dataframe tbody tr th {\n        vertical-align: top;\n    }\n\n    .dataframe thead th {\n        text-align: right;\n    }\n</style>\n<table border=\"1\" class=\"dataframe\">\n  <thead>\n    <tr style=\"text-align: right;\">\n      <th></th>\n      <th>id</th>\n      <th>tratamento</th>\n      <th>tempo</th>\n      <th>dose</th>\n      <th>droga</th>\n      <th>g-0</th>\n      <th>g-1</th>\n      <th>g-2</th>\n      <th>g-3</th>\n      <th>g-4</th>\n      <th>...</th>\n      <th>c-90</th>\n      <th>c-91</th>\n      <th>c-92</th>\n      <th>c-93</th>\n      <th>c-94</th>\n      <th>c-95</th>\n      <th>c-96</th>\n      <th>c-97</th>\n      <th>c-98</th>\n      <th>c-99</th>\n    </tr>\n  </thead>\n  <tbody>\n    <tr>\n      <th>23809</th>\n      <td>id_fffb1ceed</td>\n      <td>com_droga</td>\n      <td>24</td>\n      <td>D2</td>\n      <td>df1d0a5a1</td>\n      <td>0.1394</td>\n      <td>-0.0636</td>\n      <td>-0.1112</td>\n      <td>-0.5080</td>\n      <td>-0.4713</td>\n      <td>...</td>\n      <td>0.1969</td>\n      <td>0.0262</td>\n      <td>-0.8121</td>\n      <td>0.3434</td>\n      <td>0.5372</td>\n      <td>-0.3246</td>\n      <td>0.0631</td>\n      <td>0.9171</td>\n      <td>0.5258</td>\n      <td>0.4680</td>\n    </tr>\n    <tr>\n      <th>23810</th>\n      <td>id_fffb70c0c</td>\n      <td>com_droga</td>\n      <td>24</td>\n      <td>D2</td>\n      <td>ecf3b6b74</td>\n      <td>-1.3260</td>\n      <td>0.3478</td>\n      <td>-0.3743</td>\n      <td>0.9905</td>\n      <td>-0.7178</td>\n      <td>...</td>\n      <td>0.4286</td>\n      <td>0.4426</td>\n      <td>0.0423</td>\n      <td>-0.3195</td>\n      <td>-0.8086</td>\n      <td>-0.9798</td>\n      <td>-0.2084</td>\n      <td>-0.1224</td>\n      <td>-0.2715</td>\n      <td>0.3689</td>\n    </tr>\n    <tr>\n      <th>23811</th>\n      <td>id_fffc1c3f4</td>\n      <td>com_controle</td>\n      <td>48</td>\n      <td>D2</td>\n      <td>cacb2b860</td>\n      <td>0.3942</td>\n      <td>0.3756</td>\n      <td>0.3109</td>\n      <td>-0.7389</td>\n      <td>0.5505</td>\n      <td>...</td>\n      <td>0.5409</td>\n      <td>0.3755</td>\n      <td>0.7343</td>\n      <td>0.2807</td>\n      <td>0.4116</td>\n      <td>0.6422</td>\n      <td>0.2256</td>\n      <td>0.7592</td>\n      <td>0.6656</td>\n      <td>0.3808</td>\n    </tr>\n    <tr>\n      <th>23812</th>\n      <td>id_fffcb9e7c</td>\n      <td>com_droga</td>\n      <td>24</td>\n      <td>D1</td>\n      <td>8b87a7a83</td>\n      <td>0.6660</td>\n      <td>0.2324</td>\n      <td>0.4392</td>\n      <td>0.2044</td>\n      <td>0.8531</td>\n      <td>...</td>\n      <td>-0.1105</td>\n      <td>0.4258</td>\n      <td>-0.2012</td>\n      <td>0.1506</td>\n      <td>1.5230</td>\n      <td>0.7101</td>\n      <td>0.1732</td>\n      <td>0.7015</td>\n      <td>-0.6290</td>\n      <td>0.0740</td>\n    </tr>\n    <tr>\n      <th>23813</th>\n      <td>id_ffffdd77b</td>\n      <td>com_droga</td>\n      <td>72</td>\n      <td>D1</td>\n      <td>972f41291</td>\n      <td>-0.8598</td>\n      <td>1.0240</td>\n      <td>-0.1361</td>\n      <td>0.7952</td>\n      <td>-0.3611</td>\n      <td>...</td>\n      <td>-3.3890</td>\n      <td>-1.7450</td>\n      <td>-6.6300</td>\n      <td>-4.0950</td>\n      <td>-7.3860</td>\n      <td>-1.4160</td>\n      <td>-3.5770</td>\n      <td>-0.4775</td>\n      <td>-2.1500</td>\n      <td>-4.2520</td>\n    </tr>\n  </tbody>\n</table>\n<p>5 rows × 877 columns</p>\n</div>",
      "text/plain": "                 id    tratamento  tempo dose      droga     g-0     g-1  \\\n23809  id_fffb1ceed     com_droga     24   D2  df1d0a5a1  0.1394 -0.0636   \n23810  id_fffb70c0c     com_droga     24   D2  ecf3b6b74 -1.3260  0.3478   \n23811  id_fffc1c3f4  com_controle     48   D2  cacb2b860  0.3942  0.3756   \n23812  id_fffcb9e7c     com_droga     24   D1  8b87a7a83  0.6660  0.2324   \n23813  id_ffffdd77b     com_droga     72   D1  972f41291 -0.8598  1.0240   \n\n          g-2     g-3     g-4  ...    c-90    c-91    c-92    c-93    c-94  \\\n23809 -0.1112 -0.5080 -0.4713  ...  0.1969  0.0262 -0.8121  0.3434  0.5372   \n23810 -0.3743  0.9905 -0.7178  ...  0.4286  0.4426  0.0423 -0.3195 -0.8086   \n23811  0.3109 -0.7389  0.5505  ...  0.5409  0.3755  0.7343  0.2807  0.4116   \n23812  0.4392  0.2044  0.8531  ... -0.1105  0.4258 -0.2012  0.1506  1.5230   \n23813 -0.1361  0.7952 -0.3611  ... -3.3890 -1.7450 -6.6300 -4.0950 -7.3860   \n\n         c-95    c-96    c-97    c-98    c-99  \n23809 -0.3246  0.0631  0.9171  0.5258  0.4680  \n23810 -0.9798 -0.2084 -0.1224 -0.2715  0.3689  \n23811  0.6422  0.2256  0.7592  0.6656  0.3808  \n23812  0.7101  0.1732  0.7015 -0.6290  0.0740  \n23813 -1.4160 -3.5770 -0.4775 -2.1500 -4.2520  \n\n[5 rows x 877 columns]"
     },
     "execution_count": 11,
     "metadata": {},
     "output_type": "execute_result"
    }
   ],
   "source": [
    "df.tail()"
   ]
  },
  {
   "cell_type": "markdown",
   "metadata": {},
   "source": [
    "##### Desafio 02"
   ]
  },
  {
   "cell_type": "code",
   "execution_count": 12,
   "metadata": {},
   "outputs": [
    {
     "data": {
      "text/plain": "0        False\n1        False\n2        False\n3        False\n4        False\n         ...  \n23809     True\n23810     True\n23811     True\n23812     True\n23813     True\nName: droga, Length: 23814, dtype: bool"
     },
     "execution_count": 12,
     "metadata": {},
     "output_type": "execute_result"
    }
   ],
   "source": [
    "# Verificar se há alguma droga repetida\n",
    "df[\"droga\"].duplicated()"
   ]
  },
  {
   "cell_type": "code",
   "execution_count": 13,
   "metadata": {},
   "outputs": [
    {
     "name": "stdout",
     "output_type": "stream",
     "text": [
      "Foram utilizados 3289 tipos de drogas no estudo\n"
     ]
    }
   ],
   "source": [
    "# Como há drogas repetidas, vamos removê-las\n",
    "df_count = df.drop_duplicates(subset=[\"droga\"])\n",
    "\n",
    "# Fazer a contagem de quantos tipos de drogas\n",
    "print(\"Foram utilizados\", df_count[\"droga\"].count(), \"tipos de drogas no estudo\")"
   ]
  },
  {
   "cell_type": "markdown",
   "metadata": {},
   "source": [
    "#### Conclusão"
   ]
  },
  {
   "cell_type": "markdown",
   "metadata": {},
   "source": [
    "Após a visualização, podemos chegar a conclusão que:\n",
    "\n",
    "- Há um grande desbalanceamento na coluna tratamento;\n",
    "- A equiparidade entre doses D1 e D2, está muito próxima do nível perfeito (50% para cada);\n",
    "- 48 horas foi o prazo mais analisado, seguido por 72h e depois 24h."
   ]
  },
  {
   "cell_type": "markdown",
   "metadata": {},
   "source": [
    "## Aula 02"
   ]
  },
  {
   "cell_type": "markdown",
   "metadata": {},
   "source": [
    "### Renomear coluna"
   ]
  },
  {
   "cell_type": "code",
   "execution_count": 16,
   "metadata": {},
   "outputs": [
    {
     "name": "stdout",
     "output_type": "stream",
     "text": [
      "                 id    tratamento  tempo dose   composto     g-0     g-1  \\\n",
      "0      id_000644bb2     com_droga     24   D1  b68db1d53  1.0620  0.5577   \n",
      "1      id_000779bfc     com_droga     72   D1  df89a8e5a  0.0743  0.4087   \n",
      "2      id_000a6266a     com_droga     48   D1  18bb41b2c  0.6280  0.5817   \n",
      "3      id_0015fd391     com_droga     48   D1  8c7f86626 -0.5138 -0.2491   \n",
      "4      id_001626bd3     com_droga     72   D2  7cbed3131 -0.3254 -0.4009   \n",
      "...             ...           ...    ...  ...        ...     ...     ...   \n",
      "23809  id_fffb1ceed     com_droga     24   D2  df1d0a5a1  0.1394 -0.0636   \n",
      "23810  id_fffb70c0c     com_droga     24   D2  ecf3b6b74 -1.3260  0.3478   \n",
      "23811  id_fffc1c3f4  com_controle     48   D2  cacb2b860  0.3942  0.3756   \n",
      "23812  id_fffcb9e7c     com_droga     24   D1  8b87a7a83  0.6660  0.2324   \n",
      "23813  id_ffffdd77b     com_droga     72   D1  972f41291 -0.8598  1.0240   \n",
      "\n",
      "          g-2     g-3     g-4  ...    c-90    c-91    c-92    c-93    c-94  \\\n",
      "0     -0.2479 -0.6208 -0.1944  ...  0.2862  0.2584  0.8076  0.5523 -0.1912   \n",
      "1      0.2991  0.0604  1.0190  ... -0.4265  0.7543  0.4708  0.0230  0.2957   \n",
      "2      1.5540 -0.0764 -0.0323  ... -0.7250 -0.6297  0.6103  0.0223 -1.3240   \n",
      "3     -0.2656  0.5288  4.0620  ... -2.0990 -0.6441 -5.6300 -1.3780 -0.8632   \n",
      "4      0.9700  0.6919  1.4180  ...  0.0042  0.0048  0.6670  1.0690  0.5523   \n",
      "...       ...     ...     ...  ...     ...     ...     ...     ...     ...   \n",
      "23809 -0.1112 -0.5080 -0.4713  ...  0.1969  0.0262 -0.8121  0.3434  0.5372   \n",
      "23810 -0.3743  0.9905 -0.7178  ...  0.4286  0.4426  0.0423 -0.3195 -0.8086   \n",
      "23811  0.3109 -0.7389  0.5505  ...  0.5409  0.3755  0.7343  0.2807  0.4116   \n",
      "23812  0.4392  0.2044  0.8531  ... -0.1105  0.4258 -0.2012  0.1506  1.5230   \n",
      "23813 -0.1361  0.7952 -0.3611  ... -3.3890 -1.7450 -6.6300 -4.0950 -7.3860   \n",
      "\n",
      "         c-95    c-96    c-97    c-98    c-99  \n",
      "0      0.6584 -0.3981  0.2139  0.3801  0.4176  \n",
      "1      0.4899  0.1522  0.1241  0.6077  0.7371  \n",
      "2     -0.3174 -0.6417 -0.2187 -1.4080  0.6931  \n",
      "3     -1.2880 -1.6210 -0.8784 -0.3876 -0.8154  \n",
      "4     -0.3031  0.1094  0.2885 -0.3786  0.7125  \n",
      "...       ...     ...     ...     ...     ...  \n",
      "23809 -0.3246  0.0631  0.9171  0.5258  0.4680  \n",
      "23810 -0.9798 -0.2084 -0.1224 -0.2715  0.3689  \n",
      "23811  0.6422  0.2256  0.7592  0.6656  0.3808  \n",
      "23812  0.7101  0.1732  0.7015 -0.6290  0.0740  \n",
      "23813 -1.4160 -3.5770 -0.4775 -2.1500 -4.2520  \n",
      "\n",
      "[23814 rows x 877 columns]\n"
     ]
    }
   ],
   "source": [
    "df = df.rename(columns={\"droga\":\"composto\"})\n",
    "print(df)"
   ]
  },
  {
   "cell_type": "markdown",
   "metadata": {},
   "source": [
    "### Visualizar Dados com SeaBorn e PyPlot"
   ]
  },
  {
   "cell_type": "code",
   "execution_count": 29,
   "metadata": {},
   "outputs": [],
   "source": [
    "# Importar biblioteca\n",
    "import seaborn as sns\n",
    "import matplotlib.pyplot as plt"
   ]
  },
  {
   "cell_type": "code",
   "execution_count": 23,
   "metadata": {},
   "outputs": [
    {
     "data": {
      "text/plain": "Index(['cacb2b860', '87d714366', '9f80f3f77', '8b87a7a83', '5628cb3ee'], dtype='object')"
     },
     "execution_count": 23,
     "metadata": {},
     "output_type": "execute_result"
    }
   ],
   "source": [
    "# Trazer os 5 principais compostos\n",
    "compostos = df[\"composto\"].value_counts().index[:5]\n",
    "compostos"
   ]
  },
  {
   "cell_type": "code",
   "execution_count": 24,
   "metadata": {},
   "outputs": [
    {
     "data": {
      "text/html": "<div>\n<style scoped>\n    .dataframe tbody tr th:only-of-type {\n        vertical-align: middle;\n    }\n\n    .dataframe tbody tr th {\n        vertical-align: top;\n    }\n\n    .dataframe thead th {\n        text-align: right;\n    }\n</style>\n<table border=\"1\" class=\"dataframe\">\n  <thead>\n    <tr style=\"text-align: right;\">\n      <th></th>\n      <th>id</th>\n      <th>tratamento</th>\n      <th>tempo</th>\n      <th>dose</th>\n      <th>composto</th>\n      <th>g-0</th>\n      <th>g-1</th>\n      <th>g-2</th>\n      <th>g-3</th>\n      <th>g-4</th>\n      <th>...</th>\n      <th>c-90</th>\n      <th>c-91</th>\n      <th>c-92</th>\n      <th>c-93</th>\n      <th>c-94</th>\n      <th>c-95</th>\n      <th>c-96</th>\n      <th>c-97</th>\n      <th>c-98</th>\n      <th>c-99</th>\n    </tr>\n  </thead>\n  <tbody>\n    <tr>\n      <th>7</th>\n      <td>id_0020d0484</td>\n      <td>com_droga</td>\n      <td>48</td>\n      <td>D1</td>\n      <td>8b87a7a83</td>\n      <td>0.2711</td>\n      <td>0.5133</td>\n      <td>-0.1327</td>\n      <td>2.5950</td>\n      <td>0.6980</td>\n      <td>...</td>\n      <td>0.3230</td>\n      <td>-0.4140</td>\n      <td>0.2532</td>\n      <td>0.0513</td>\n      <td>0.8600</td>\n      <td>1.4250</td>\n      <td>0.6633</td>\n      <td>0.4562</td>\n      <td>-0.9622</td>\n      <td>0.0260</td>\n    </tr>\n    <tr>\n      <th>16</th>\n      <td>id_002fb9c19</td>\n      <td>com_droga</td>\n      <td>48</td>\n      <td>D1</td>\n      <td>87d714366</td>\n      <td>8.7380</td>\n      <td>0.1914</td>\n      <td>2.4380</td>\n      <td>-0.2930</td>\n      <td>3.2010</td>\n      <td>...</td>\n      <td>-9.9840</td>\n      <td>-9.9840</td>\n      <td>-9.9840</td>\n      <td>-9.9840</td>\n      <td>-9.9840</td>\n      <td>-9.9840</td>\n      <td>-9.9840</td>\n      <td>-9.9840</td>\n      <td>-9.9840</td>\n      <td>-6.7840</td>\n    </tr>\n    <tr>\n      <th>25</th>\n      <td>id_0054388ec</td>\n      <td>com_controle</td>\n      <td>48</td>\n      <td>D1</td>\n      <td>cacb2b860</td>\n      <td>-0.6696</td>\n      <td>-0.2718</td>\n      <td>-1.2230</td>\n      <td>-0.6226</td>\n      <td>-0.7220</td>\n      <td>...</td>\n      <td>0.6171</td>\n      <td>0.6405</td>\n      <td>0.5429</td>\n      <td>0.3562</td>\n      <td>1.3290</td>\n      <td>0.5573</td>\n      <td>0.8837</td>\n      <td>0.5534</td>\n      <td>0.8976</td>\n      <td>1.0050</td>\n    </tr>\n    <tr>\n      <th>38</th>\n      <td>id_0079af0fb</td>\n      <td>com_controle</td>\n      <td>24</td>\n      <td>D1</td>\n      <td>cacb2b860</td>\n      <td>-0.1636</td>\n      <td>-1.8230</td>\n      <td>-0.5211</td>\n      <td>0.3054</td>\n      <td>-1.1280</td>\n      <td>...</td>\n      <td>-0.3880</td>\n      <td>-0.6828</td>\n      <td>-0.6594</td>\n      <td>-0.2043</td>\n      <td>0.3571</td>\n      <td>-0.1319</td>\n      <td>0.2187</td>\n      <td>0.0737</td>\n      <td>0.6498</td>\n      <td>-1.4820</td>\n    </tr>\n    <tr>\n      <th>40</th>\n      <td>id_007bfbb91</td>\n      <td>com_controle</td>\n      <td>24</td>\n      <td>D2</td>\n      <td>cacb2b860</td>\n      <td>-1.3200</td>\n      <td>-1.7340</td>\n      <td>-0.0741</td>\n      <td>1.5440</td>\n      <td>-1.8290</td>\n      <td>...</td>\n      <td>0.7412</td>\n      <td>1.0340</td>\n      <td>0.7393</td>\n      <td>1.1020</td>\n      <td>0.3786</td>\n      <td>0.2636</td>\n      <td>-0.5751</td>\n      <td>0.3362</td>\n      <td>0.8543</td>\n      <td>0.9180</td>\n    </tr>\n    <tr>\n      <th>...</th>\n      <td>...</td>\n      <td>...</td>\n      <td>...</td>\n      <td>...</td>\n      <td>...</td>\n      <td>...</td>\n      <td>...</td>\n      <td>...</td>\n      <td>...</td>\n      <td>...</td>\n      <td>...</td>\n      <td>...</td>\n      <td>...</td>\n      <td>...</td>\n      <td>...</td>\n      <td>...</td>\n      <td>...</td>\n      <td>...</td>\n      <td>...</td>\n      <td>...</td>\n      <td>...</td>\n    </tr>\n    <tr>\n      <th>23793</th>\n      <td>id_ffd26f361</td>\n      <td>com_controle</td>\n      <td>48</td>\n      <td>D2</td>\n      <td>cacb2b860</td>\n      <td>0.6008</td>\n      <td>0.2781</td>\n      <td>-0.3319</td>\n      <td>-0.8782</td>\n      <td>0.9281</td>\n      <td>...</td>\n      <td>1.2470</td>\n      <td>0.9569</td>\n      <td>-0.2065</td>\n      <td>-0.4918</td>\n      <td>0.7863</td>\n      <td>0.0504</td>\n      <td>0.8813</td>\n      <td>0.7757</td>\n      <td>-0.5272</td>\n      <td>0.7082</td>\n    </tr>\n    <tr>\n      <th>23802</th>\n      <td>id_fff3976bd</td>\n      <td>com_droga</td>\n      <td>24</td>\n      <td>D1</td>\n      <td>87d714366</td>\n      <td>3.2890</td>\n      <td>2.1270</td>\n      <td>0.9770</td>\n      <td>2.0490</td>\n      <td>2.3170</td>\n      <td>...</td>\n      <td>-8.6300</td>\n      <td>-8.1490</td>\n      <td>-6.2900</td>\n      <td>-8.0970</td>\n      <td>-8.7330</td>\n      <td>-2.3780</td>\n      <td>-8.4480</td>\n      <td>-4.4550</td>\n      <td>-5.7930</td>\n      <td>-3.7000</td>\n    </tr>\n    <tr>\n      <th>23805</th>\n      <td>id_fff6df1c5</td>\n      <td>com_droga</td>\n      <td>48</td>\n      <td>D2</td>\n      <td>5628cb3ee</td>\n      <td>1.7380</td>\n      <td>-1.2900</td>\n      <td>-0.4533</td>\n      <td>-1.1640</td>\n      <td>-0.4841</td>\n      <td>...</td>\n      <td>0.2865</td>\n      <td>0.5974</td>\n      <td>-0.2727</td>\n      <td>0.1188</td>\n      <td>1.0770</td>\n      <td>-1.0250</td>\n      <td>0.1516</td>\n      <td>0.4503</td>\n      <td>-0.6312</td>\n      <td>-0.8302</td>\n    </tr>\n    <tr>\n      <th>23811</th>\n      <td>id_fffc1c3f4</td>\n      <td>com_controle</td>\n      <td>48</td>\n      <td>D2</td>\n      <td>cacb2b860</td>\n      <td>0.3942</td>\n      <td>0.3756</td>\n      <td>0.3109</td>\n      <td>-0.7389</td>\n      <td>0.5505</td>\n      <td>...</td>\n      <td>0.5409</td>\n      <td>0.3755</td>\n      <td>0.7343</td>\n      <td>0.2807</td>\n      <td>0.4116</td>\n      <td>0.6422</td>\n      <td>0.2256</td>\n      <td>0.7592</td>\n      <td>0.6656</td>\n      <td>0.3808</td>\n    </tr>\n    <tr>\n      <th>23812</th>\n      <td>id_fffcb9e7c</td>\n      <td>com_droga</td>\n      <td>24</td>\n      <td>D1</td>\n      <td>8b87a7a83</td>\n      <td>0.6660</td>\n      <td>0.2324</td>\n      <td>0.4392</td>\n      <td>0.2044</td>\n      <td>0.8531</td>\n      <td>...</td>\n      <td>-0.1105</td>\n      <td>0.4258</td>\n      <td>-0.2012</td>\n      <td>0.1506</td>\n      <td>1.5230</td>\n      <td>0.7101</td>\n      <td>0.1732</td>\n      <td>0.7015</td>\n      <td>-0.6290</td>\n      <td>0.0740</td>\n    </tr>\n  </tbody>\n</table>\n<p>3235 rows × 877 columns</p>\n</div>",
      "text/plain": "                 id    tratamento  tempo dose   composto     g-0     g-1  \\\n7      id_0020d0484     com_droga     48   D1  8b87a7a83  0.2711  0.5133   \n16     id_002fb9c19     com_droga     48   D1  87d714366  8.7380  0.1914   \n25     id_0054388ec  com_controle     48   D1  cacb2b860 -0.6696 -0.2718   \n38     id_0079af0fb  com_controle     24   D1  cacb2b860 -0.1636 -1.8230   \n40     id_007bfbb91  com_controle     24   D2  cacb2b860 -1.3200 -1.7340   \n...             ...           ...    ...  ...        ...     ...     ...   \n23793  id_ffd26f361  com_controle     48   D2  cacb2b860  0.6008  0.2781   \n23802  id_fff3976bd     com_droga     24   D1  87d714366  3.2890  2.1270   \n23805  id_fff6df1c5     com_droga     48   D2  5628cb3ee  1.7380 -1.2900   \n23811  id_fffc1c3f4  com_controle     48   D2  cacb2b860  0.3942  0.3756   \n23812  id_fffcb9e7c     com_droga     24   D1  8b87a7a83  0.6660  0.2324   \n\n          g-2     g-3     g-4  ...    c-90    c-91    c-92    c-93    c-94  \\\n7     -0.1327  2.5950  0.6980  ...  0.3230 -0.4140  0.2532  0.0513  0.8600   \n16     2.4380 -0.2930  3.2010  ... -9.9840 -9.9840 -9.9840 -9.9840 -9.9840   \n25    -1.2230 -0.6226 -0.7220  ...  0.6171  0.6405  0.5429  0.3562  1.3290   \n38    -0.5211  0.3054 -1.1280  ... -0.3880 -0.6828 -0.6594 -0.2043  0.3571   \n40    -0.0741  1.5440 -1.8290  ...  0.7412  1.0340  0.7393  1.1020  0.3786   \n...       ...     ...     ...  ...     ...     ...     ...     ...     ...   \n23793 -0.3319 -0.8782  0.9281  ...  1.2470  0.9569 -0.2065 -0.4918  0.7863   \n23802  0.9770  2.0490  2.3170  ... -8.6300 -8.1490 -6.2900 -8.0970 -8.7330   \n23805 -0.4533 -1.1640 -0.4841  ...  0.2865  0.5974 -0.2727  0.1188  1.0770   \n23811  0.3109 -0.7389  0.5505  ...  0.5409  0.3755  0.7343  0.2807  0.4116   \n23812  0.4392  0.2044  0.8531  ... -0.1105  0.4258 -0.2012  0.1506  1.5230   \n\n         c-95    c-96    c-97    c-98    c-99  \n7      1.4250  0.6633  0.4562 -0.9622  0.0260  \n16    -9.9840 -9.9840 -9.9840 -9.9840 -6.7840  \n25     0.5573  0.8837  0.5534  0.8976  1.0050  \n38    -0.1319  0.2187  0.0737  0.6498 -1.4820  \n40     0.2636 -0.5751  0.3362  0.8543  0.9180  \n...       ...     ...     ...     ...     ...  \n23793  0.0504  0.8813  0.7757 -0.5272  0.7082  \n23802 -2.3780 -8.4480 -4.4550 -5.7930 -3.7000  \n23805 -1.0250  0.1516  0.4503 -0.6312 -0.8302  \n23811  0.6422  0.2256  0.7592  0.6656  0.3808  \n23812  0.7101  0.1732  0.7015 -0.6290  0.0740  \n\n[3235 rows x 877 columns]"
     },
     "execution_count": 24,
     "metadata": {},
     "output_type": "execute_result"
    }
   ],
   "source": [
    "df.query(\"composto in @compostos\")"
   ]
  },
  {
   "cell_type": "code",
   "execution_count": 41,
   "metadata": {},
   "outputs": [
    {
     "data": {
      "image/png": "[encoded data removed]",
      "text/plain": "<Figure size 720x360 with 1 Axes>"
     },
     "metadata": {},
     "output_type": "display_data"
    }
   ],
   "source": [
    "# Gerar o gráfico de compostos\n",
    "sns.set()\n",
    "plt.figure(figsize=(10,5))\n",
    "ax = sns.countplot(x=\"composto\", data=df.query(\"composto in @compostos\"))\n",
    "ax.set_title(\"Top 5 Compostos\")\n",
    "plt.show()\n",
    "# Gerar um gráfico para visualizar a distribuição do \"g-0\"\n",
    "df[\"g-0\"].hist(bins=50)"
   ]
  },
  {
   "cell_type": "code",
   "execution_count": 45,
   "metadata": {},
   "outputs": [
    {
     "data": {
      "text/plain": "<AxesSubplot:>"
     },
     "execution_count": 45,
     "metadata": {},
     "output_type": "execute_result"
    },
    {
     "data": {
      "image/png": "[encoded data removed]",
      "text/plain": "<Figure size 432x288 with 1 Axes>"
     },
     "metadata": {},
     "output_type": "display_data"
    }
   ],
   "source": [
    "# Gerar um gráfico para visualizar a distribuição do \"g-0\"\n",
    "df[\"g-0\"].hist(bins=50)"
   ]
  },
  {
   "cell_type": "code",
   "execution_count": 53,
   "metadata": {},
   "outputs": [
    {
     "data": {
      "text/plain": "<AxesSubplot:>"
     },
     "execution_count": 53,
     "metadata": {},
     "output_type": "execute_result"
    },
    {
     "data": {
      "image/png": "[encoded data removed]",
      "text/plain": "<Figure size 432x288 with 1 Axes>"
     },
     "metadata": {},
     "output_type": "display_data"
    }
   ],
   "source": [
    "# Gerar um gráfico da média do g-0 ao último g\n",
    "df.loc[:, \"g-0\":\"g-771\"].describe().T[\"mean\"].hist(bins=100)"
   ]
  },
  {
   "cell_type": "code",
   "execution_count": 56,
   "metadata": {},
   "outputs": [
    {
     "data": {
      "text/plain": "<AxesSubplot:>"
     },
     "execution_count": 56,
     "metadata": {},
     "output_type": "execute_result"
    },
    {
     "data": {
      "image/png": "[encoded data removed]",
      "text/plain": "<Figure size 432x288 with 1 Axes>"
     },
     "metadata": {},
     "output_type": "display_data"
    }
   ],
   "source": [
    "# Gerar um gráfico sobre o mínimo do g-0 ao g-771\n",
    "df.loc[:, \"g-0\":\"g-771\"].describe().T[\"min\"].hist(bins=20)"
   ]
  },
  {
   "cell_type": "code",
   "execution_count": 57,
   "metadata": {},
   "outputs": [
    {
     "data": {
      "text/plain": "<AxesSubplot:>"
     },
     "execution_count": 57,
     "metadata": {},
     "output_type": "execute_result"
    },
    {
     "data": {
      "image/png": "[encoded data removed]",
      "text/plain": "<Figure size 432x288 with 1 Axes>"
     },
     "metadata": {},
     "output_type": "display_data"
    }
   ],
   "source": [
    "# Gerar um gráfico sobre o máximo do g-0 ao g-771\n",
    "df.loc[:,\"g-0\":\"g-771\"].describe().T[\"max\"].hist(bins=20)"
   ]
  },
  {
   "cell_type": "code",
   "execution_count": 61,
   "metadata": {},
   "outputs": [
    {
     "data": {
      "text/plain": "<AxesSubplot:>"
     },
     "execution_count": 61,
     "metadata": {},
     "output_type": "execute_result"
    },
    {
     "data": {
      "image/png": "[encoded data removed]",
      "text/plain": "<Figure size 432x288 with 1 Axes>"
     },
     "metadata": {},
     "output_type": "display_data"
    }
   ],
   "source": [
    "# Gerar um gráfico sobre as médias do c-0 ao c-99\n",
    "df.loc[:,\"c-0\":\"c-99\"].describe().T[\"mean\"].hist(bins=50)"
   ]
  },
  {
   "cell_type": "code",
   "execution_count": 66,
   "metadata": {},
   "outputs": [
    {
     "data": {
      "text/plain": "<AxesSubplot:>"
     },
     "execution_count": 66,
     "metadata": {},
     "output_type": "execute_result"
    },
    {
     "data": {
      "image/png": "[encoded data removed]",
      "text/plain": "<Figure size 432x288 with 1 Axes>"
     },
     "metadata": {},
     "output_type": "display_data"
    }
   ],
   "source": [
    "# Gerar um gráfico sobre as mínimas do c-0 ao c-99\n",
    "df.loc[:,\"c-0\":\"c-99\"].describe().T[\"min\"].hist(bins=5)"
   ]
  },
  {
   "cell_type": "code",
   "execution_count": 70,
   "metadata": {},
   "outputs": [
    {
     "data": {
      "text/plain": "<AxesSubplot:>"
     },
     "execution_count": 70,
     "metadata": {},
     "output_type": "execute_result"
    },
    {
     "data": {
      "image/png": "[encoded data removed]",
      "text/plain": "<Figure size 432x288 with 1 Axes>"
     },
     "metadata": {},
     "output_type": "display_data"
    }
   ],
   "source": [
    "# Gerar um gráfico sobre as máximas do c-0 ao c-99\n",
    "df.loc[:,\"c-0\":\"c-99\"].describe().T[\"max\"].hist(bins=30)"
   ]
  },
  {
   "cell_type": "code",
   "execution_count": 71,
   "metadata": {},
   "outputs": [
    {
     "data": {
      "text/plain": "<AxesSubplot:xlabel='g-0'>"
     },
     "execution_count": 71,
     "metadata": {},
     "output_type": "execute_result"
    },
    {
     "data": {
      "image/png": "[encoded data removed]",
      "text/plain": "<Figure size 432x288 with 1 Axes>"
     },
     "metadata": {},
     "output_type": "display_data"
    }
   ],
   "source": [
    "# Visualizar o g-0, através do boxplot\n",
    "sns.boxplot(x=\"g-0\", data=df)"
   ]
  },
  {
   "cell_type": "code",
   "execution_count": null,
   "metadata": {},
   "outputs": [],
   "source": []
  }
 ],
 "metadata": {
  "kernelspec": {
   "display_name": "Python 3.8.5 64-bit ('base': conda)",
   "name": "python385jvsc74a57bd0cdecf96cc986aca95769a85d94599c8f7cb9d08f60f0864b4aedd306990c12ba"
  },
  "language_info": {
   "codemirror_mode": {
    "name": "ipython",
    "version": 3
   },
   "file_extension": ".py",
   "mimetype": "text/x-python",
   "name": "python",
   "nbconvert_exporter": "python",
   "pygments_lexer": "ipython3",
   "version": "3.8.5"
  }
 },
 "nbformat": 4,
 "nbformat_minor": 4
}